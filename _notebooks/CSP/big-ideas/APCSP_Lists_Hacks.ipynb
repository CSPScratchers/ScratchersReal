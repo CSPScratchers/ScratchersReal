{
 "cells": [
  {
   "cell_type": "markdown",
   "id": "8999e4e3",
   "metadata": {},
   "source": [
    "# 🔟 Easy List Hacks (AP CSP 3.10 — Lists)\n",
    "\n",
    "This notebook contains 10 practice 'hacks' using **lists** based on AP CSP Big Idea 3.10. Each hack has a **task** and a **pseudocode example**."
   ]
  },
  {
   "cell_type": "markdown",
   "id": "d46e4fc3",
   "metadata": {},
   "source": [
    "## 1. Add Up Numbers\n",
    "**Task: Add all numbers in a list and find the average.**\n",
    "\n",
    "```\n",
    "numbers ← [4,7,1,9]\n",
    "sum ← 0\n",
    "FOR EACH n IN numbers\n",
    "{\n",
    "   sum ← sum + n\n",
    "}\n",
    "avg ← sum / LENGTH(numbers)\n",
    "DISPLAY(sum)\n",
    "DISPLAY(avg)\n",
    "```"
   ]
  },
  {
   "cell_type": "markdown",
   "id": "b7394cbd",
   "metadata": {},
   "source": [
    "## 2. Count Repeats\n",
    "**Task: Count how many times each item shows up in a list.**\n",
    "\n",
    "```\n",
    "items ← [\"cat\",\"dog\",\"cat\",\"bird\"]\n",
    "values ← []\n",
    "counts ← []\n",
    "FOR EACH it IN items\n",
    "{\n",
    "   idx ← FIND_INDEX(values, it)  // 0 if not found\n",
    "   IF idx = 0\n",
    "   {\n",
    "      APPEND(values, it)\n",
    "      APPEND(counts, 1)\n",
    "   }\n",
    "   ELSE\n",
    "   {\n",
    "      counts[idx] ← counts[idx] + 1\n",
    "   }\n",
    "}\n",
    "DISPLAY(values)\n",
    "DISPLAY(counts)\n",
    "```"
   ]
  },
  {
   "cell_type": "markdown",
   "id": "f40b6aad",
   "metadata": {},
   "source": [
    "## 3. Keep Only Evens\n",
    "**Task: From a list, make a new list with only even numbers.**\n",
    "\n",
    "```\n",
    "numbers ← [3,8,5,12,7]\n",
    "evens ← []\n",
    "FOR EACH n IN numbers\n",
    "{\n",
    "   IF n MOD 2 = 0\n",
    "   {\n",
    "      APPEND(evens, n)\n",
    "   }\n",
    "}\n",
    "DISPLAY(evens)\n",
    "```"
   ]
  },
  {
   "cell_type": "markdown",
   "id": "bfbff3dc",
   "metadata": {},
   "source": [
    "## 4. Find an Item\n",
    "**Task: Search a list to find the first place an item appears.**\n",
    "\n",
    "```\n",
    "list ← [\"a\",\"b\",\"c\",\"b\"]\n",
    "target ← \"b\"\n",
    "foundIndex ← 0\n",
    "i ← 1\n",
    "WHILE i ≤ LENGTH(list) AND foundIndex = 0\n",
    "{\n",
    "   IF list[i] = target\n",
    "   {\n",
    "      foundIndex ← i\n",
    "   }\n",
    "   i ← i + 1\n",
    "}\n",
    "DISPLAY(foundIndex)\n",
    "```"
   ]
  },
  {
   "cell_type": "markdown",
   "id": "d0569bc1",
   "metadata": {},
   "source": [
    "## 5. Remove Duplicates\n",
    "**Task: From a list with repeats, make a new list with only unique items.**\n",
    "\n",
    "```\n",
    "orig ← [2,3,2,5,3]\n",
    "unique ← []\n",
    "FOR EACH x IN orig\n",
    "{\n",
    "   IF FIND_INDEX(unique, x) = 0\n",
    "   {\n",
    "      APPEND(unique, x)\n",
    "   }\n",
    "}\n",
    "DISPLAY(unique)\n",
    "```"
   ]
  },
  {
   "cell_type": "markdown",
   "id": "ece4587b",
   "metadata": {},
   "source": [
    "## 6. Moving Average\n",
    "**Task: Find the average of every group of 3 numbers in a list.**\n",
    "\n",
    "```\n",
    "data ← [4,5,3,8,10]\n",
    "k ← 3\n",
    "results ← []\n",
    "FOR i ← 1 TO LENGTH(data) - k + 1\n",
    "{\n",
    "   sum ← 0\n",
    "   FOR j ← 0 TO k - 1\n",
    "   {\n",
    "      sum ← sum + data[i + j]\n",
    "   }\n",
    "   APPEND(results, sum / k)\n",
    "}\n",
    "DISPLAY(results)\n",
    "```"
   ]
  },
  {
   "cell_type": "markdown",
   "id": "24094a09",
   "metadata": {},
   "source": [
    "## 7. Step-by-Step Sorting\n",
    "**Task: Sort a list of numbers and show the list after each step.**\n",
    "\n",
    "```\n",
    "list ← [5,2,8,1]\n",
    "FOR i ← 1 TO LENGTH(list) - 1\n",
    "{\n",
    "   minIndex ← i\n",
    "   FOR j ← i+1 TO LENGTH(list)\n",
    "   {\n",
    "      IF list[j] < list[minIndex]\n",
    "      {\n",
    "         minIndex ← j\n",
    "      }\n",
    "   }\n",
    "   SWAP(list[i], list[minIndex])\n",
    "   DISPLAY(\"Step\", i, list)\n",
    "}\n",
    "```"
   ]
  },
  {
   "cell_type": "markdown",
   "id": "8d31e5be",
   "metadata": {},
   "source": [
    "## 8. Square the Numbers\n",
    "**Task: Make a new list where each number is squared.**\n",
    "\n",
    "```\n",
    "nums ← [1,2,3,4]\n",
    "squares ← []\n",
    "FOR EACH n IN nums\n",
    "{\n",
    "   APPEND(squares, n * n)\n",
    "}\n",
    "DISPLAY(squares)\n",
    "```"
   ]
  },
  {
   "cell_type": "markdown",
   "id": "73792845",
   "metadata": {},
   "source": [
    "## 9. Playlist Maker\n",
    "**Task: Make a playlist. Add, remove, and count songs.**\n",
    "\n",
    "```\n",
    "playlist ← []\n",
    "APPEND(playlist, \"SongA\")\n",
    "APPEND(playlist, \"SongB\")\n",
    "REMOVE(playlist, 1)   // removes SongA\n",
    "DISPLAY(playlist)\n",
    "DISPLAY(LENGTH(playlist))\n",
    "```"
   ]
  },
  {
   "cell_type": "markdown",
   "id": "39080c33",
   "metadata": {},
   "source": [
    "## 10. Filter People by Age\n",
    "**Task: From a list of people with ages, keep only adults (18+).**\n",
    "\n",
    "```\n",
    "records ← [ [\"Alice\",17], [\"Bob\",20], [\"Cathy\",22] ]\n",
    "adults ← []\n",
    "FOR EACH r IN records\n",
    "{\n",
    "   IF r[2] ≥ 18\n",
    "   {\n",
    "      APPEND(adults, r)\n",
    "   }\n",
    "}\n",
    "DISPLAY(adults)\n",
    "```"
   ]
  }
 ],
 "metadata": {},
 "nbformat": 4,
 "nbformat_minor": 5
}
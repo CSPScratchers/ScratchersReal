{
 "cells": [
  {
   "cell_type": "raw",
   "id": "47d06ccd",
   "metadata": {
    "vscode": {
     "languageId": "raw"
    }
   },
   "source": [
    "---\n",
    "layout: post\n",
    "title: Programming Fundamentals - P4\n",
    "description: An introduction to College Board's Big Idea 3, part one.  This is a collection of Python lessons to help students understand the fundamental algorithm and programming elementes required by College Board's AP Computer Science Principles curriculum.\n",
    "toc: False\n",
    "comments: False\n",
    "permalink: /csp/big-idea-3/iterations/p4/lesson\n",
    "comments: true\n",
    "---"
   ]
  },
  {
   "cell_type": "markdown",
   "id": "db2572fa",
   "metadata": {},
   "source": [
    "\n",
    "# Iteration Lesson – Big Idea 3.8\n",
    "\n"
   ]
  },
  {
   "cell_type": "markdown",
   "id": "89d0bc9b",
   "metadata": {},
   "source": [
    "---"
   ]
  },
  {
   "cell_type": "markdown",
   "id": "25d6ac6d",
   "metadata": {},
   "source": [
    "## Warm-Up\n",
    "Think about these questions:\n",
    "- How do you brush your teeth every morning?\n",
    "- Do you repeat steps until your teeth feel clean?\n",
    "- What are other examples in daily life where we repeat steps?\n",
    "\n",
    "Iteration is like repeating those steps in code until a condition is met."
   ]
  },
  {
   "cell_type": "markdown",
   "id": "0b8a1c9f",
   "metadata": {},
   "source": [
    "\n",
    "## Key Vocabulary\n",
    "- **Loop** – A structure that repeats instructions.  \n",
    "- **For loop** – Repeats a block of code a specific number of times.  \n",
    "- **While loop** – Repeats a block of code as long as a condition is true.  \n",
    "- **Iteration** – Each repetition of the loop body.  \n"
   ]
  },
  {
   "cell_type": "markdown",
   "id": "72eae2fc",
   "metadata": {},
   "source": [
    "## Language comparison: Python vs JavaScript\n"
   ]
  },
  {
   "cell_type": "markdown",
   "id": "ed21b7e3",
   "metadata": {},
   "source": [
    "Short notes for beginners:\n",
    "- Python uses indentation to mark the loop body; JavaScript uses braces `{}`.\n",
    "- Python commonly uses `range()` and direct iteration over lists; JavaScript often uses `for`, `for...of`, or array methods like `.forEach()`.\n",
    "- Behavior of `break` and `continue` is the same in both languages but the syntax differs slightly.\n",
    "- When converting between languages, focus on the loop's goal (counting, iterating, waiting for a condition) and pick the matching pattern in the target language."
   ]
  },
  {
   "cell_type": "markdown",
   "id": "27fdd95d",
   "metadata": {},
   "source": [
    "# `For` loops \n",
    "\n",
    "A `for` loop is used when you know (or can determine) how many times you want to repeat something. In Python, `for variable in sequence:` runs the body once for each item in the sequence.\n",
    "\n",
    "`for` loops are definate loops meaning they only run for a definate amount of variables\n",
    "\n",
    "Key parts:\n",
    "- `variable`: a name that refers to the current item or index each iteration.\n",
    "- `sequence`: something you can loop over (like `range()`, lists, strings).\n",
    "\n",
    "Example: iterate a list of names and greet each person."
   ]
  },
  {
   "cell_type": "code",
   "execution_count": null,
   "id": "25b2fbc5",
   "metadata": {},
   "outputs": [],
   "source": [
    "names = ['Anwita', 'Nicholas', 'Varada']\n",
    "for name in names:\n",
    "    print('Hello,', name)\n",
    "\n",
    "# Output: Hello, Anwita\n",
    "#         Hello, Nicholas\n",
    "#         Hello, Varada"
   ]
  },
  {
   "cell_type": "markdown",
   "id": "34baa63f",
   "metadata": {},
   "source": [
    "### What happens during a `for` loop (step-by-step)\n",
    "\n",
    "Let's look at a tiny loop and trace exactly what the computer does each step. This helps beginners see how the loop variable changes and when the loop stops.\n",
    "\n",
    "Code to trace:\n",
    "```python\n",
    "for i in range(1, 4):\n",
    "    print('i is', i)\n",
    "```\n",
    "\n",
    "Step-by-step explanation:\n",
    "1. `range(1, 4)` creates the sequence [1, 2, 3].\n",
    "2. The loop picks the first item (1) and assigns it to `i`.\n",
    "3. The body `print('i is', i)` runs and shows `i is 1`.\n",
    "4. The loop picks the next item (2), assigns to `i`, runs the body, prints `i is 2`.\n",
    "5. The loop picks the next item (3), prints `i is 3`.\n",
    "6. There are no more items, so the loop ends.\n",
    "\n",
    "Try changing the range numbers to see more or fewer iterations."
   ]
  },
  {
   "cell_type": "code",
   "execution_count": null,
   "id": "0dfb5b0e",
   "metadata": {},
   "outputs": [],
   "source": [
    "# Run the tiny loop so you can see the trace\n",
    "for i in range(1, 4):\n",
    "    print('current value of i =', i)\n",
    "\n",
    "# Expected output:\n",
    "#  current value of i = 1\n",
    "#  current value of i = 2\n",
    "#  current value of i = 3"
   ]
  },
  {
   "cell_type": "markdown",
   "id": "932ff160",
   "metadata": {},
   "source": [
    "## Python vs JavaScript: `for` Loops"
   ]
  },
  {
   "cell_type": "markdown",
   "id": "4bf023f1",
   "metadata": {},
   "source": [
    "### 1) Simple `for` loop (counting)\n",
    "Python explanation: `for i in range(start, end)` runs i through a sequence of numbers.\n",
    "```python\n",
    "for i in range(1, 6):\n",
    "    print(i)  # prints 1,2,3,4,5\n",
    "```\n",
    "JavaScript explanation: `for (let i = start; i < end; i++)` is the usual counting loop.\n",
    "```javascript\n",
    "for (let i = 1; i <= 5; i++) {\n",
    "  console.log(i); // prints 1,2,3,4,5\n",
    "}\n",
    "```\n",
    "### 2) Looping over an array/list\n",
    "Python (list): use `for item in list:`\n",
    "```python\n",
    "names = ['Anwita','Nicholas','Varada']\n",
    "for name in names:\n",
    "    print('Hello', name)\n",
    "```\n",
    "JavaScript (array): use `for...of` or index loop\n",
    "```javascript\n",
    "const names = ['Anwita','Nicholas','Varada'];\n",
    "for (const name of names) {\n",
    "  console.log('Hello', name);\n",
    "}\n",
    "```"
   ]
  },
  {
   "cell_type": "markdown",
   "id": "e2083189",
   "metadata": {},
   "source": [
    "# `while` Loop"
   ]
  },
  {
   "cell_type": "markdown",
   "id": "f0c56e20",
   "metadata": {},
   "source": [
    "A `while` loop repeats as long as a condition remains true. Use `while` when you don’t know in advance how many iterations you need — just the condition that should stop the loop.\n",
    "\n",
    "A `while` loop  is an **indefinate** loop meaning it will repeat as long as a condition is true\n",
    "Important ideas:\n",
    "- Ensure something in the loop eventually makes the condition false (like updating a counter).\n",
    "- Be careful with input-driven loops — always validate and provide a clear exit path.\n",
    "\n",
    "Example: Create a list of numbers and end and 5"
   ]
  },
  {
   "cell_type": "code",
   "execution_count": null,
   "id": "9e057d68",
   "metadata": {},
   "outputs": [],
   "source": [
    "# Initialize a variable\n",
    "num = 1\n",
    "\n",
    "# While loop starts\n",
    "while num <= 5: # This loop will continue as long as num is less than or equal to 5\n",
    "    print(num) # Print the current value of the number\n",
    "    num += 1  # This is equivalent to num = num + 1\n",
    "# End of the loop"
   ]
  },
  {
   "cell_type": "markdown",
   "id": "8cb129c5",
   "metadata": {},
   "source": [
    "### Doubling using `while` loops\n",
    "\n",
    "This loop will continue as long as the number is less than or equal to 100 starting at 2"
   ]
  },
  {
   "cell_type": "code",
   "execution_count": null,
   "id": "29ff17a9",
   "metadata": {},
   "outputs": [],
   "source": [
    "# Keep doubling until the number is greater than 100\n",
    "num = 2 # Start with 2\n",
    "while num <= 100: # This loop will continue as long as num is less than or equal to 100\n",
    "    print(num) # Print the current value of the number\n",
    "    num = num * 2 # This is equivalent to num *= 2"
   ]
  },
  {
   "cell_type": "markdown",
   "id": "9921809e",
   "metadata": {},
   "source": [
    "### JavaScript equivalent\n",
    "Here is the same behavior in JavaScript (prints to console):"
   ]
  },
  {
   "cell_type": "code",
   "execution_count": null,
   "id": "a209f7ae",
   "metadata": {
    "vscode": {
     "languageId": "javascript"
    }
   },
   "outputs": [],
   "source": [
    "%%js\n",
    "// Start with 2, keep doubling while <= 100\n",
    "let num = 2;\n",
    "while (num <= 100) {\n",
    "  console.log(num);\n",
    "  num = num * 2; // or num *= 2 for shorter syntax\n",
    "}"
   ]
  },
  {
   "cell_type": "markdown",
   "id": "f710848c",
   "metadata": {},
   "source": [
    "## JavaScript vs. Python: `while` Loops\n",
    "### 3) `while` loop (indefinite)\n",
    "Python: repeat until condition false\n",
    "```python\n",
    "count = 1\n",
    "while count <= 5:\n",
    "    print(count)\n",
    "    count += 1\n",
    "```\n",
    "JavaScript: similar structure, but different syntax\n",
    "```javascript\n",
    "let count = 1;\n",
    "while (count <= 5) {\n",
    "  console.log(count);\n",
    "  count += 1;\n",
    "}\n",
    "```"
   ]
  },
  {
   "cell_type": "markdown",
   "id": "a497339b",
   "metadata": {
    "vscode": {
     "languageId": "javascript"
    }
   },
   "source": [
    "## Control flow inside loops: break and continue\n",
    "\n",
    "- `break` exits the entire loop immediately.\n",
    "- `continue` skips the rest of the current iteration and goes to the next one.\n",
    "\n",
    "Example: print numbers 1–6 but skip 3 and stop when you reach 5."
   ]
  },
  {
   "cell_type": "code",
   "execution_count": null,
   "id": "df2f7e8d",
   "metadata": {},
   "outputs": [],
   "source": [
    "for n in range(1, 8): # numbers 1 to 8\n",
    "    if n == 3: # when n is 3\n",
    "        continue  # skip number 3\n",
    "    if n == 6: # when n is 6\n",
    "        break  # stop the whole loop at 6\n",
    "    print(n) # what number is printed\n",
    "\n",
    "# Output: 1\n",
    "#         2\n",
    "#         4\n",
    "#         5"
   ]
  },
  {
   "cell_type": "markdown",
   "id": "73ebecad",
   "metadata": {},
   "source": [
    "### 4) `break` and `continue`\n",
    "Python:\n",
    "```python\n",
    "for i in range(1, 6):\n",
    "    if i == 3:\n",
    "        continue  # skip the rest of this iteration\n",
    "    if i == 5:\n",
    "        break     # exit the loop early\n",
    "    print(i) \n",
    "```\n",
    "JavaScript:\n",
    "```javascript\n",
    "for (let i = 1; i <= 5; i++) {\n",
    "  if (i === 3) continue;\n",
    "  if (i === 5) break;\n",
    "  console.log(i);\n",
    "}\n",
    "```"
   ]
  },
  {
   "cell_type": "markdown",
   "id": "927c5ae8",
   "metadata": {},
   "source": [
    "\n",
    "## Reflection\n",
    "- When would you use a `for` loop instead of a `while` loop?  \n",
    "- How does iteration reduce the need for repetitive code?  \n",
    "- How can infinite loops be avoided?  \n"
   ]
  },
  {
   "cell_type": "markdown",
   "id": "5266467d",
   "metadata": {},
   "source": [
    "\n",
    "## Check for Understanding\n",
    "\n",
    "**Question:** What will this code output?  \n",
    "```python\n",
    "for i in range(3):\n",
    "    print(\"hi\")\n",
    "```\n",
    "\n",
    "- A) `hi`  \n",
    "- B) `hi hi`  \n",
    "- C) `hi hi hi`  \n",
    "- D) Nothing  \n",
    "\n",
    "**Correct Answer:** C  \n"
   ]
  },
  {
   "cell_type": "markdown",
   "id": "3d7ec562",
   "metadata": {},
   "source": [
    "# Iterations Game — Multiple Choice (JavaScript / Python)\n",
    "Choose a language, read the snippet, and pick the correct output or behavior. You will get immediate \"Correct\" or \"Incorrect\" feedback and an explanation."
   ]
  },
  {
   "cell_type": "raw",
   "id": "70b58961",
   "metadata": {
    "vscode": {
     "languageId": "raw"
    }
   },
   "source": [
    "<div id=\"quiz\">\n",
    "  <div style=\"margin-bottom:10px;color: #bc7e7eff;font-weight:bold;\">\n",
    "    <label><input type=\"radio\" name=\"lang\" value=\"js\" checked> JavaScript</label>\n",
    "    <label style=\"margin-left:10px;color: white;font-weight:bold;\"><input type=\"radio\" name=\"lang\" value=\"py\"> Python</label>\n",
    "  </div>\n",
    "\n",
    "  <div id=\"card\" style=\"border:1px solid #ccc;padding:12px;border-radius:6px;background:#fafafa;\">\n",
    "    <h3 id=\"qnum\">Question 1</h3>\n",
    "    <pre id=\"code\" style=\"background:#272822;color: #f8f8f2;padding:10px;border-radius:4px;overflow:auto;\"></pre>\n",
    "    <div id=\"choices\"></div>\n",
    "    <div style=\"margin-top:8px;\">\n",
    "      <button id=\"submit\">Submit</button>\n",
    "      <button id=\"next\" style=\"margin-left:8px;\">Next</button>\n",
    "      <button id=\"explain\" style=\"margin-left:8px;\">Show Explanation</button>\n",
    "    </div>\n",
    "    <p id=\"result\" style=\"font-weight:bold;margin-top:8px;color:black\"></p>\n",
    "    <div id=\"explainText\" style=\"margin-top:6px;color:#333;\"></div>\n",
    "  </div>\n",
    "</div>\n",
    "\n",
    "<script>\n",
    "(function(){\n",
    "  const questions = [\n",
    "    {\n",
    "      codeJS: \"for (let i = 0; i < 3; i++) {\\n  console.log(i);\\n}\",\n",
    "      codePy: \"for i in range(3):\\n    print(i)\",\n",
    "      choices: [\"0 1 2\", \"1 2 3\", \"0 1 2 3\", \"Error\"],\n",
    "      answer: 0,\n",
    "      explain: \"Loops start at 0 and run while i < 3, producing 0,1,2.\"\n",
    "    },\n",
    "    {\n",
    "      codeJS: \"let i = 0;\\nwhile (i < 3) {\\n  i += 2;\\n  console.log(i);\\n}\",\n",
    "      codePy: \"i = 0\\nwhile i < 3:\\n    i += 2\\n    print(i)\",\n",
    "      choices: [\"0 2\", \"2 4\", \"2\", \"0 1 2\"],\n",
    "      answer: 1,\n",
    "      explain: \"Each loop iteration increases i by 2 then prints. Values printed: 2 then 4.\"\n",
    "    },\n",
    "    {\n",
    "      codeJS: \"const arr = [1,2,3];\\nfor (const x of arr) console.log(x * 2);\",\n",
    "      codePy: \"for x in [1,2,3]:\\n    print(x * 2)\",\n",
    "      choices: [\"2 4 6\", \"1 2 3\", \"2,4,6,8\", \"Error\"],\n",
    "      answer: 0,\n",
    "      explain: \"Each element is multiplied by 2: 2,4,6.\"\n",
    "    },\n",
    "    {\n",
    "      codeJS: \"for (let i=0;i<5;i++){\\n  if (i===2) break;\\n  console.log(i);\\n}\",\n",
    "      codePy: \"for i in range(5):\\n    if i == 2:\\n        break\\n    print(i)\",\n",
    "      choices: [\"0 1\", \"0 1 2\", \"2 3 4\", \"0 1 2 3 4\"],\n",
    "      answer: 0,\n",
    "      explain: \"break stops the loop when i equals 2, so only 0 and 1 are printed.\"\n",
    "    },\n",
    "    {\n",
    "      codeJS: \"for (let i=0;i<4;i++){\\n  if (i%2===0) continue;\\n  console.log(i);\\n}\",\n",
    "      codePy: \"for i in range(4):\\n    if i % 2 == 0:\\n        continue\\n    print(i)\",\n",
    "      choices: [\"1 3\", \"0 2\", \"0 1 2 3\", \"0 1 3\"],\n",
    "      answer: 0,\n",
    "      explain: \"continue skips even i (0 and 2), so only odd values 1 and 3 are printed.\"\n",
    "    }\n",
    "  ];\n",
    "\n",
    "  let idx = 0;\n",
    "  let selected = null;\n",
    "\n",
    "  const codeEl = document.getElementById('code');\n",
    "  const choicesEl = document.getElementById('choices');\n",
    "  const resultEl = document.getElementById('result');\n",
    "  const explainEl = document.getElementById('explainText');\n",
    "  const qnumEl = document.getElementById('qnum');\n",
    "\n",
    "  function getLang() {\n",
    "    return document.querySelector('input[name=\"lang\"]:checked').value;\n",
    "  }\n",
    "\n",
    "  function render() {\n",
    "    const q = questions[idx];\n",
    "    qnumEl.textContent = \"Question \" + (idx+1);\n",
    "    const lang = getLang();\n",
    "    codeEl.textContent = (lang === 'js') ? q.codeJS : q.codePy;\n",
    "    // render choices\n",
    "    choicesEl.innerHTML = '';\n",
    "    q.choices.forEach((c, i) => {\n",
    "      const id = 'opt' + i;\n",
    "      const wrapper = document.createElement('div');\n",
    "      wrapper.style.marginTop = '6px';\n",
    "      wrapper.innerHTML = `<label><input type=\"radio\" name=\"choice\" value=\"${i}\" id=\"${id}\"> ${escapeHtml(c)}</label>`;\n",
    "      choicesEl.appendChild(wrapper);\n",
    "    });\n",
    "    resultEl.textContent = '';\n",
    "    explainEl.textContent = '';\n",
    "    selected = null;\n",
    "    document.querySelectorAll('input[name=\"choice\"]').forEach(r => r.addEventListener('change', e=> selected = parseInt(e.target.value)));\n",
    "  }\n",
    "\n",
    "  function escapeHtml(s){ return s.replace(/&/g,'&amp;').replace(/</g,'&lt;').replace(/>/g,'&gt;'); }\n",
    "\n",
    "  document.getElementById('submit').addEventListener('click', ()=>{\n",
    "    if (selected === null) { resultEl.textContent = \"Pick an answer first.\"; resultEl.style.color = \"darkorange\"; return; }\n",
    "    const q = questions[idx];\n",
    "    if (selected === q.answer) {\n",
    "      resultEl.textContent = \"Correct\";\n",
    "      resultEl.style.color = \"green\";\n",
    "    } else {\n",
    "      resultEl.textContent = \"Incorrect\";\n",
    "      resultEl.style.color = \"red\";\n",
    "    }\n",
    "  });\n",
    "\n",
    "  document.getElementById('next').addEventListener('click', ()=>{\n",
    "    idx = (idx + 1) % questions.length;\n",
    "    render();\n",
    "  });\n",
    "\n",
    "  document.getElementById('explain').addEventListener('click', ()=>{\n",
    "    explainEl.textContent = questions[idx].explain;\n",
    "  });\n",
    "\n",
    "  document.querySelectorAll('input[name=\"lang\"]').forEach(r=> r.addEventListener('change', render));\n",
    "\n",
    "  // initial render\n",
    "  render();\n",
    "})();\n",
    "</script>"
   ]
  }
 ],
 "metadata": {
  "kernelspec": {
   "display_name": "venv",
   "language": "python",
   "name": "python3"
  },
  "language_info": {
   "codemirror_mode": {
    "name": "ipython",
    "version": 3
   },
   "file_extension": ".py",
   "mimetype": "text/x-python",
   "name": "python",
   "nbconvert_exporter": "python",
   "pygments_lexer": "ipython3",
   "version": "3.12.3"
  }
 },
 "nbformat": 4,
 "nbformat_minor": 5
}

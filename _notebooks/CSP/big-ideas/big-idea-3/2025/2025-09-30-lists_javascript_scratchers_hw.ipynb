{
 "cells": [
  {
   "cell_type": "markdown",
   "id": "4b1ccc5c",
   "metadata": {},
   "source": [
    "### Hack 1 – Add Up Numbers\n",
    "\n",
    "Make a list of numbers. Write code to:\n",
    "1. Find the total sum.\n",
    "2. Find the average."
   ]
  },
  {
   "cell_type": "code",
   "execution_count": null,
   "id": "9fc29a1a",
   "metadata": {},
   "outputs": [],
   "source": [
    "// Hack 1 – Add Up Numbers\n",
    "let numbers = [4, 7, 1, 9];\n",
    "\n",
    "// Write your code here:\n"
   ]
  },
  {
   "cell_type": "markdown",
   "id": "519b9811",
   "metadata": {},
   "source": [
    "### Hack 2 – Count Repeats\n",
    "\n",
    "Make a list with repeated items. Write code to count how many times each item appears."
   ]
  },
  {
   "cell_type": "code",
   "execution_count": null,
   "id": "b9e989ea",
   "metadata": {},
   "outputs": [],
   "source": [
    "// Hack 2 – Count Repeats\n",
    "let items = [\"cat\", \"dog\", \"cat\", \"bird\"];\n",
    "\n",
    "// Write your code here:\n"
   ]
  },
  {
   "cell_type": "markdown",
   "id": "800ed729",
   "metadata": {},
   "source": [
    "### Hack 3 – Keep Only Evens\n",
    "\n",
    "Make a list of numbers. Write code to create a new list with only even numbers."
   ]
  },
  {
   "cell_type": "code",
   "execution_count": null,
   "id": "4f7fc860",
   "metadata": {},
   "outputs": [],
   "source": [
    "// Hack 3 – Keep Only Evens\n",
    "let numbers = [3, 8, 5, 12, 7];\n",
    "\n",
    "// Write your code here:\n"
   ]
  },
  {
   "cell_type": "markdown",
   "id": "7d812d6c",
   "metadata": {},
   "source": [
    "### Hack 4 – Find an Item\n",
    "\n",
    "Make a list. Write code to find the first position (index) of a given item."
   ]
  },
  {
   "cell_type": "code",
   "execution_count": null,
   "id": "f45817ad",
   "metadata": {},
   "outputs": [],
   "source": [
    "// Hack 4 – Find an Item\n",
    "let letters = [\"a\", \"b\", \"c\", \"b\"];\n",
    "let target = \"b\";\n",
    "\n",
    "// Write your code here:\n"
   ]
  },
  {
   "cell_type": "markdown",
   "id": "01a31478",
   "metadata": {},
   "source": [
    "### Hack 5 – Remove Duplicates\n",
    "\n",
    "Make a list with repeated numbers. Write code to make a new list without duplicates."
   ]
  },
  {
   "cell_type": "code",
   "execution_count": null,
   "id": "0ebd5ccd",
   "metadata": {},
   "outputs": [],
   "source": [
    "// Hack 5 – Remove Duplicates\n",
    "let numbers = [2, 3, 2, 5, 3];\n",
    "\n",
    "// Write your code here:\n"
   ]
  },
  {
   "cell_type": "markdown",
   "id": "d1184a2a",
   "metadata": {},
   "source": [
    "### Hack 6 – Moving Average\n",
    "\n",
    "Make a list of numbers. Write code to calculate the average of each group of 3 numbers in a row."
   ]
  },
  {
   "cell_type": "code",
   "execution_count": null,
   "id": "f5d1bd03",
   "metadata": {},
   "outputs": [],
   "source": [
    "// Hack 6 – Moving Average\n",
    "let numbers = [4, 5, 3, 8, 10];\n",
    "\n",
    "// Write your code here:\n"
   ]
  },
  {
   "cell_type": "markdown",
   "id": "f38d861c",
   "metadata": {},
   "source": [
    "### Hack 7 – Step-by-Step Sorting\n",
    "\n",
    "Make a list of numbers. Write code to sort the list step by step, showing progress after each step."
   ]
  },
  {
   "cell_type": "code",
   "execution_count": null,
   "id": "24ff1ee1",
   "metadata": {},
   "outputs": [],
   "source": [
    "// Hack 7 – Step-by-Step Sorting\n",
    "let numbers = [5, 2, 8, 1];\n",
    "\n",
    "// Write your code here:\n"
   ]
  },
  {
   "cell_type": "markdown",
   "id": "7bded59d",
   "metadata": {},
   "source": [
    "### Hack 8 – Square the Numbers\n",
    "\n",
    "Make a list of numbers. Write code to make a new list where each number is squared."
   ]
  },
  {
   "cell_type": "code",
   "execution_count": null,
   "id": "c9cce48c",
   "metadata": {},
   "outputs": [],
   "source": [
    "// Hack 8 – Square the Numbers\n",
    "let numbers = [1, 2, 3, 4];\n",
    "\n",
    "// Write your code here:\n"
   ]
  },
  {
   "cell_type": "markdown",
   "id": "f9048048",
   "metadata": {},
   "source": [
    "### Hack 9 – Playlist Maker\n",
    "\n",
    "Start with an empty playlist (a list). Write code to add songs, remove songs, and count them."
   ]
  },
  {
   "cell_type": "code",
   "execution_count": null,
   "id": "0daac501",
   "metadata": {},
   "outputs": [],
   "source": [
    "// Hack 9 – Playlist Maker\n",
    "let playlist = [];\n",
    "\n",
    "// Write your code here:\n"
   ]
  },
  {
   "cell_type": "markdown",
   "id": "426a2e32",
   "metadata": {},
   "source": [
    "### Hack 10 – Filter People by Age\n",
    "\n",
    "Make a list of [name, age]. Write code to make a new list with only people age 18 or older."
   ]
  },
  {
   "cell_type": "code",
   "execution_count": null,
   "id": "10bd0214",
   "metadata": {},
   "outputs": [],
   "source": [
    "// Hack 10 – Filter People by Age\n",
    "let people = [[\"Alice\", 17], [\"Bob\", 20], [\"Cathy\", 22]];\n",
    "\n",
    "// Write your code here:\n"
   ]
  }
 ],
 "metadata": {},
 "nbformat": 4,
 "nbformat_minor": 5
}
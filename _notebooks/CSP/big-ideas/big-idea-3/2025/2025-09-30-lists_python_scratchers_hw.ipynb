{
 "cells": [
  {
   "cell_type": "raw",
   "id": "6676fbba",
   "metadata": {
    "vscode": {
     "languageId": "raw"
    }
   },
   "source": [
    "---\n",
    "layout: post\n",
    "title: Lists Hacks\n",
    "description: This is a CSP Hacks notebook based on the lists lesson\n",
    "comments: true\n",
    "permalink: /csp/big-idea-3/<lists>/<4>/Hacks\n",
    "---"
   ]
  },
  {
   "cell_type": "markdown",
   "id": "b52a2664",
   "metadata": {},
   "source": [
    "# Python Lists Homework"
   ]
  },
  {
   "cell_type": "markdown",
   "id": "b85e23b6",
   "metadata": {},
   "source": [
    "- After going through the lists lesson work on these hacks in your own repository\n",
    "- Chose 5 hacks to do on your own!"
   ]
  },
  {
   "cell_type": "markdown",
   "id": "0eef752c",
   "metadata": {},
   "source": [
    "### Hack 1 – Add Up Numbers\n",
    "\n",
    "Make a list of numbers. Write code to:\n",
    "1. Find the total sum.\n",
    "2. Find the average."
   ]
  },
  {
   "cell_type": "code",
   "execution_count": null,
   "id": "9eb9fc42",
   "metadata": {},
   "outputs": [],
   "source": [
    "# Hack 1 – Add Up Numbers\n",
    "numbers = [4, 7, 1, 9]\n",
    "\n",
    "# Write your code here:\n"
   ]
  },
  {
   "cell_type": "markdown",
   "id": "46f14089",
   "metadata": {},
   "source": [
    "### Hack 2 – Count Repeats\n",
    "\n",
    "Make a list with repeated items. Write code to count how many times each item appears."
   ]
  },
  {
   "cell_type": "code",
   "execution_count": null,
   "id": "c8224c2e",
   "metadata": {},
   "outputs": [],
   "source": [
    "# Hack 2 – Count Repeats\n",
    "items = [\"cat\", \"dog\", \"cat\", \"bird\"]\n",
    "\n",
    "# Write your code here:\n"
   ]
  },
  {
   "cell_type": "markdown",
   "id": "714f85a7",
   "metadata": {},
   "source": [
    "### Hack 3 – Keep Only Evens\n",
    "\n",
    "Make a list of numbers. Write code to create a new list with only even numbers."
   ]
  },
  {
   "cell_type": "code",
   "execution_count": null,
   "id": "a9e5c292",
   "metadata": {},
   "outputs": [],
   "source": [
    "# Hack 3 – Keep Only Evens\n",
    "numbers = [3, 8, 5, 12, 7]\n",
    "\n",
    "# Write your code here:\n"
   ]
  },
  {
   "cell_type": "markdown",
   "id": "87a4c3ed",
   "metadata": {},
   "source": [
    "### Hack 4 – Find an Item\n",
    "\n",
    "Make a list. Write code to find the first position (index) of a given item."
   ]
  },
  {
   "cell_type": "code",
   "execution_count": null,
   "id": "85a81e52",
   "metadata": {},
   "outputs": [],
   "source": [
    "# Hack 4 – Find an Item\n",
    "letters = [\"a\", \"b\", \"c\", \"b\"]\n",
    "target = \"b\"\n",
    "\n",
    "# Write your code here:\n"
   ]
  },
  {
   "cell_type": "markdown",
   "id": "7acfac82",
   "metadata": {},
   "source": [
    "### Hack 5 – Remove Duplicates\n",
    "\n",
    "Make a list with repeated numbers. Write code to make a new list without duplicates."
   ]
  },
  {
   "cell_type": "code",
   "execution_count": null,
   "id": "a5b9c189",
   "metadata": {},
   "outputs": [],
   "source": [
    "# Hack 5 – Remove Duplicates\n",
    "numbers = [2, 3, 2, 5, 3]\n",
    "\n",
    "# Write your code here:\n"
   ]
  },
  {
   "cell_type": "markdown",
   "id": "4cb9f823",
   "metadata": {},
   "source": [
    "### Hack 6 – Moving Average\n",
    "\n",
    "Make a list of numbers. Write code to calculate the average of each group of 3 numbers in a row."
   ]
  },
  {
   "cell_type": "code",
   "execution_count": null,
   "id": "7fe017a0",
   "metadata": {},
   "outputs": [],
   "source": [
    "# Hack 6 – Moving Average\n",
    "numbers = [4, 5, 3, 8, 10]\n",
    "\n",
    "# Write your code here:\n"
   ]
  },
  {
   "cell_type": "markdown",
   "id": "a1bb0faf",
   "metadata": {},
   "source": [
    "### Hack 7 – Step-by-Step Sorting\n",
    "\n",
    "Make a list of numbers. Write code to sort the list step by step, showing progress after each step."
   ]
  },
  {
   "cell_type": "code",
   "execution_count": null,
   "id": "f66756cd",
   "metadata": {},
   "outputs": [],
   "source": [
    "# Hack 7 – Step-by-Step Sorting\n",
    "numbers = [5, 2, 8, 1]\n",
    "\n",
    "# Write your code here:\n"
   ]
  },
  {
   "cell_type": "markdown",
   "id": "00e1b818",
   "metadata": {},
   "source": [
    "### Hack 8 – Square the Numbers\n",
    "\n",
    "Make a list of numbers. Write code to make a new list where each number is squared."
   ]
  },
  {
   "cell_type": "code",
   "execution_count": null,
   "id": "33932f52",
   "metadata": {},
   "outputs": [],
   "source": [
    "# Hack 8 – Square the Numbers\n",
    "numbers = [1, 2, 3, 4]\n",
    "\n",
    "# Write your code here:\n"
   ]
  },
  {
   "cell_type": "markdown",
   "id": "aa0ba622",
   "metadata": {},
   "source": [
    "### Hack 9 – Playlist Maker\n",
    "\n",
    "Start with an empty playlist (a list). Write code to add songs, remove songs, and count them."
   ]
  },
  {
   "cell_type": "code",
   "execution_count": null,
   "id": "873b4e1b",
   "metadata": {},
   "outputs": [],
   "source": [
    "# Hack 9 – Playlist Maker\n",
    "playlist = []\n",
    "\n",
    "# Write your code here:\n"
   ]
  },
  {
   "cell_type": "markdown",
   "id": "d75cdf3c",
   "metadata": {},
   "source": [
    "### Hack 10 – Filter People by Age\n",
    "\n",
    "Make a list of [name, age]. Write code to make a new list with only people age 18 or older."
   ]
  },
  {
   "cell_type": "code",
   "execution_count": null,
   "id": "f6131c8d",
   "metadata": {},
   "outputs": [],
   "source": [
    "# Hack 10 – Filter People by Age\n",
    "people = [[\"Alice\", 17], [\"Bob\", 20], [\"Cathy\", 22]]\n",
    "\n",
    "# Write your code here:\n"
   ]
  }
 ],
 "metadata": {
  "language_info": {
   "name": "python"
  }
 },
 "nbformat": 4,
 "nbformat_minor": 5
}

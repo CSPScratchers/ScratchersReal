{
 "cells": [
  {
   "cell_type": "markdown",
   "id": "7f774cc9",
   "metadata": {},
   "source": [
    "# 🔟 Easy List Hacks (AP CSP 3.10 — Lists)\n",
    "\n",
    "This notebook contains 10 practice 'hacks' using **lists** based on AP CSP Big Idea 3.10.\n",
    "\n",
    "Each hack has a **task** description and a **Python code cell** so you can try it out yourself."
   ]
  },
  {
   "cell_type": "markdown",
   "id": "31a1b3d5",
   "metadata": {},
   "source": [
    "## 1. Add Up Numbers\n",
    "**Task: Add all numbers in a list and find the average.**"
   ]
  },
  {
   "cell_type": "code",
   "execution_count": null,
   "id": "114f61a5",
   "metadata": {},
   "outputs": [],
   "source": [
    "numbers = [4,7,1,9]\n",
    "sum_val = sum(numbers)\n",
    "avg = sum_val / len(numbers)\n",
    "print(\"Sum:\", sum_val)\n",
    "print(\"Average:\", avg)"
   ]
  },
  {
   "cell_type": "markdown",
   "id": "7631879c",
   "metadata": {},
   "source": [
    "## 2. Count Repeats\n",
    "**Task: Count how many times each item shows up in a list.**"
   ]
  },
  {
   "cell_type": "code",
   "execution_count": null,
   "id": "8a0a3b02",
   "metadata": {},
   "outputs": [],
   "source": [
    "items = [\"cat\",\"dog\",\"cat\",\"bird\"]\n",
    "counts = {}\n",
    "for it in items:\n",
    "    if it in counts:\n",
    "        counts[it] += 1\n",
    "    else:\n",
    "        counts[it] = 1\n",
    "print(counts)"
   ]
  },
  {
   "cell_type": "markdown",
   "id": "3b23566e",
   "metadata": {},
   "source": [
    "## 3. Keep Only Evens\n",
    "**Task: From a list, make a new list with only even numbers.**"
   ]
  },
  {
   "cell_type": "code",
   "execution_count": null,
   "id": "fc4de2e9",
   "metadata": {},
   "outputs": [],
   "source": [
    "numbers = [3,8,5,12,7]\n",
    "evens = [n for n in numbers if n % 2 == 0]\n",
    "print(evens)"
   ]
  },
  {
   "cell_type": "markdown",
   "id": "c857a76c",
   "metadata": {},
   "source": [
    "## 4. Find an Item\n",
    "**Task: Search a list to find the first place an item appears.**"
   ]
  },
  {
   "cell_type": "code",
   "execution_count": null,
   "id": "2cb6c764",
   "metadata": {},
   "outputs": [],
   "source": [
    "lst = [\"a\",\"b\",\"c\",\"b\"]\n",
    "target = \"b\"\n",
    "found_index = -1\n",
    "for i in range(len(lst)):\n",
    "    if lst[i] == target:\n",
    "        found_index = i\n",
    "        break\n",
    "print(\"Index:\", found_index)"
   ]
  },
  {
   "cell_type": "markdown",
   "id": "6a2f75c3",
   "metadata": {},
   "source": [
    "## 5. Remove Duplicates\n",
    "**Task: From a list with repeats, make a new list with only unique items.**"
   ]
  },
  {
   "cell_type": "code",
   "execution_count": null,
   "id": "aeaddada",
   "metadata": {},
   "outputs": [],
   "source": [
    "orig = [2,3,2,5,3]\n",
    "unique = []\n",
    "for x in orig:\n",
    "    if x not in unique:\n",
    "        unique.append(x)\n",
    "print(unique)"
   ]
  },
  {
   "cell_type": "markdown",
   "id": "9cb3eec6",
   "metadata": {},
   "source": [
    "## 6. Moving Average\n",
    "**Task: Find the average of every group of 3 numbers in a list.**"
   ]
  },
  {
   "cell_type": "code",
   "execution_count": null,
   "id": "75df9939",
   "metadata": {},
   "outputs": [],
   "source": [
    "data = [4,5,3,8,10]\n",
    "k = 3\n",
    "results = []\n",
    "for i in range(len(data) - k + 1):\n",
    "    window = data[i:i+k]\n",
    "    results.append(sum(window)/k)\n",
    "print(results)"
   ]
  },
  {
   "cell_type": "markdown",
   "id": "37d88314",
   "metadata": {},
   "source": [
    "## 7. Step-by-Step Sorting\n",
    "**Task: Sort a list of numbers and show the list after each step.**"
   ]
  },
  {
   "cell_type": "code",
   "execution_count": null,
   "id": "05c3e651",
   "metadata": {},
   "outputs": [],
   "source": [
    "lst = [5,2,8,1]\n",
    "for i in range(len(lst)-1):\n",
    "    min_index = i\n",
    "    for j in range(i+1, len(lst)):\n",
    "        if lst[j] < lst[min_index]:\n",
    "            min_index = j\n",
    "    lst[i], lst[min_index] = lst[min_index], lst[i]\n",
    "    print(\"Step\", i+1, lst)"
   ]
  },
  {
   "cell_type": "markdown",
   "id": "f0333ea3",
   "metadata": {},
   "source": [
    "## 8. Square the Numbers\n",
    "**Task: Make a new list where each number is squared.**"
   ]
  },
  {
   "cell_type": "code",
   "execution_count": null,
   "id": "e4cd9c2b",
   "metadata": {},
   "outputs": [],
   "source": [
    "nums = [1,2,3,4]\n",
    "squares = [n*n for n in nums]\n",
    "print(squares)"
   ]
  },
  {
   "cell_type": "markdown",
   "id": "5a3437d9",
   "metadata": {},
   "source": [
    "## 9. Playlist Maker\n",
    "**Task: Make a playlist. Add, remove, and count songs.**"
   ]
  },
  {
   "cell_type": "code",
   "execution_count": null,
   "id": "a9ee77fa",
   "metadata": {},
   "outputs": [],
   "source": [
    "playlist = []\n",
    "playlist.append(\"SongA\")\n",
    "playlist.append(\"SongB\")\n",
    "playlist.pop(0)   # removes SongA\n",
    "print(playlist)\n",
    "print(\"Number of songs:\", len(playlist))"
   ]
  },
  {
   "cell_type": "markdown",
   "id": "f17f8fcd",
   "metadata": {},
   "source": [
    "## 10. Filter People by Age\n",
    "**Task: From a list of people with ages, keep only adults (18+).**"
   ]
  },
  {
   "cell_type": "code",
   "execution_count": null,
   "id": "62a1a752",
   "metadata": {},
   "outputs": [],
   "source": [
    "records = [[\"Alice\",17],[\"Bob\",20],[\"Cathy\",22]]\n",
    "adults = [r for r in records if r[1] >= 18]\n",
    "print(adults)"
   ]
  }
 ],
 "metadata": {},
 "nbformat": 4,
 "nbformat_minor": 5
}
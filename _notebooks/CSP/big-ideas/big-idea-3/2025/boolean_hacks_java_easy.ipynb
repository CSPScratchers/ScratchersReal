{
 "cells": [
  {
   "cell_type": "markdown",
   "id": "823548ae",
   "metadata": {},
   "source": [
    "# 🔑 Boolean Hacks in Java\n",
    "\n",
    "This notebook has short Boolean challenges. Edit the code where it says `TODO` to make it work."
   ]
  },
  {
   "cell_type": "markdown",
   "id": "edd847c1",
   "metadata": {},
   "source": [
    "## Challenge 1: Positive Number\n",
    "Fix the condition so it prints `num is positive` if the number is greater than 0."
   ]
  },
  {
   "cell_type": "code",
   "execution_count": null,
   "id": "e6c87780",
   "metadata": {
    "vscode": {
     "languageId": "javascript"
    }
   },
   "outputs": [],
   "source": [
    "int num = -3; // Try changing this number!\n",
    "\n",
    "// TODO: change the condition\n",
    "if (num < 0) { // <-- wrong, fix this\n",
    "    System.out.println(num + \" is positive\");\n",
    "} else {\n",
    "    System.out.println(num + \" is NOT positive\");\n",
    "}"
   ]
  },
  {
   "cell_type": "markdown",
   "id": "009c2e2d",
   "metadata": {},
   "source": [
    "## Challenge 2: Is Even?\n",
    "Change the condition so it prints `num is even` when the number is divisible by 2."
   ]
  },
  {
   "cell_type": "code",
   "execution_count": null,
   "id": "2db682ee",
   "metadata": {
    "vscode": {
     "languageId": "javascript"
    }
   },
   "outputs": [],
   "source": [
    "int num = 7;\n",
    "\n",
    "// TODO: check if num is even\n",
    "if (num > 0) { // <-- not correct\n",
    "    System.out.println(num + \" is even\");\n",
    "} else {\n",
    "    System.out.println(num + \" is odd\");\n",
    "}"
   ]
  },
  {
   "cell_type": "markdown",
   "id": "92c02232",
   "metadata": {},
   "source": [
    "## Challenge 3: Teenager Check\n",
    "Print `Teenager` if age is between 13 and 19 (inclusive). Otherwise print `Not Teenager`. Fix the condition."
   ]
  },
  {
   "cell_type": "code",
   "execution_count": null,
   "id": "e11dd74a",
   "metadata": {
    "vscode": {
     "languageId": "javascript"
    }
   },
   "outputs": [],
   "source": [
    "int age = 15;\n",
    "\n",
    "// TODO: fix the condition\n",
    "if (age > 0) { // <-- wrong\n",
    "    System.out.println(\"Teenager\");\n",
    "} else {\n",
    "    System.out.println(\"Not Teenager\");\n",
    "}"
   ]
  },
  {
   "cell_type": "markdown",
   "id": "d8499647",
   "metadata": {},
   "source": [
    "## Challenge 4: Lamp Logic\n",
    "We have two switches: a and b. The lamp should turn ON if **at least one** is true.\n",
    "\n",
    "Fix the condition."
   ]
  },
  {
   "cell_type": "code",
   "execution_count": null,
   "id": "a23b7e64",
   "metadata": {
    "vscode": {
     "languageId": "javascript"
    }
   },
   "outputs": [],
   "source": [
    "boolean a = true, b = false;\n",
    "\n",
    "// TODO: fix condition for at least one True\n",
    "if (a && b) { // <-- wrong\n",
    "    System.out.println(\"Lamp is ON\");\n",
    "} else {\n",
    "    System.out.println(\"Lamp is OFF\");\n",
    "}"
   ]
  }
 ],
 "metadata": {
  "language_info": {
   "name": "python"
  }
 },
 "nbformat": 4,
 "nbformat_minor": 5
}

{
 "cells": [
  {
   "cell_type": "markdown",
   "id": "ae496db1",
   "metadata": {},
   "source": [
    "# ✅ Boolean Hacks in Java (Teacher Version)\n",
    "\n",
    "This version has solutions filled in for reference."
   ]
  },
  {
   "cell_type": "markdown",
   "id": "6cee98cf",
   "metadata": {},
   "source": [
    "## Challenge 1: Positive Number"
   ]
  },
  {
   "cell_type": "code",
   "execution_count": null,
   "id": "9b7b0f9f",
   "metadata": {},
   "outputs": [],
   "source": [
    "int num = -3; // Try changing this number!\n",
    "\n",
    "// Corrected condition\n",
    "if (num > 0) {\n",
    "    System.out.println(num + \" is positive\");\n",
    "} else {\n",
    "    System.out.println(num + \" is NOT positive\");\n",
    "}"
   ]
  },
  {
   "cell_type": "markdown",
   "id": "8fd1f152",
   "metadata": {},
   "source": [
    "## Challenge 2: Is Even?"
   ]
  },
  {
   "cell_type": "code",
   "execution_count": null,
   "id": "d7eadcb5",
   "metadata": {},
   "outputs": [],
   "source": [
    "int num = 7;\n",
    "\n",
    "// Corrected condition\n",
    "if (num % 2 == 0) {\n",
    "    System.out.println(num + \" is even\");\n",
    "} else {\n",
    "    System.out.println(num + \" is odd\");\n",
    "}"
   ]
  },
  {
   "cell_type": "markdown",
   "id": "3cbc077e",
   "metadata": {},
   "source": [
    "## Challenge 3: Teenager Check"
   ]
  },
  {
   "cell_type": "code",
   "execution_count": null,
   "id": "19e872cc",
   "metadata": {},
   "outputs": [],
   "source": [
    "int age = 15;\n",
    "\n",
    "// Corrected condition\n",
    "if (age >= 13 && age <= 19) {\n",
    "    System.out.println(\"Teenager\");\n",
    "} else {\n",
    "    System.out.println(\"Not Teenager\");\n",
    "}"
   ]
  },
  {
   "cell_type": "markdown",
   "id": "15c6f965",
   "metadata": {},
   "source": [
    "## Challenge 4: Lamp Logic"
   ]
  },
  {
   "cell_type": "code",
   "execution_count": null,
   "id": "14be09b4",
   "metadata": {},
   "outputs": [],
   "source": [
    "boolean a = true, b = false;\n",
    "\n",
    "// Corrected condition\n",
    "if (a || b) {\n",
    "    System.out.println(\"Lamp is ON\");\n",
    "} else {\n",
    "    System.out.println(\"Lamp is OFF\");\n",
    "}"
   ]
  }
 ],
 "metadata": {},
 "nbformat": 4,
 "nbformat_minor": 5
}

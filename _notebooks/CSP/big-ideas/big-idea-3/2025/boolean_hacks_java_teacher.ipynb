{
 "cells": [
  {
   "cell_type": "markdown",
   "id": "ae496db1",
   "metadata": {},
   "source": [
    "# ✅ Boolean Hacks in Java (Teacher Version)\n",
    "\n",
    "This version has solutions filled in for reference."
   ]
  },
  {
   "cell_type": "markdown",
   "id": "6cee98cf",
   "metadata": {},
   "source": [
    "## Challenge 1: Mole Hit"
   ]
  },
  {
   "cell_type": "code",
   "execution_count": null,
   "id": "9b7b0f9f",
   "metadata": {},
   "outputs": [],
   "source": [
    "boolean hit = true; // ✅ Change this to true when you hit the mole\n",
    "\n",
    "// Corrected condition: checks if hit is true\n",
    "if (hit) {\n",
    "    System.out.println(\"Hit!\");\n",
    "} else {\n",
    "    System.out.println(\"Miss!\");\n",
    "}"
   ]
  },
  {
   "cell_type": "markdown",
   "id": "8fd1f152",
   "metadata": {},
   "source": [
    "## Challenge 2: Out of Lives"
   ]
  },
  {
   "cell_type": "code",
   "execution_count": null,
   "id": "d7eadcb5",
   "metadata": {},
   "outputs": [],
   "source": [
    "let lives = 3;       // Starting number of lives\n",
    "let missed = true;   // Set to true if player misses a mole\n",
    "\n",
    "// Corrected: decrease lives when a mole is missed\n",
    "if (missed) {\n",
    "    lives -= 1; // ✅ subtract one life\n",
    "}\n",
    "\n",
    "// Corrected condition: check if lives have reached 0\n",
    "if (lives === 0) {\n",
    "    console.log(\"Game Over!\");\n",
    "} else {\n",
    "    console.log(\"Keep playing! Lives left: \" + lives);\n",
    "}"
   ]
  },
  {
   "cell_type": "markdown",
   "id": "3cbc077e",
   "metadata": {},
   "source": [
    "## Challenge 3: High Score Boost"
   ]
  },
  {
   "cell_type": "code",
   "execution_count": null,
   "id": "19e872cc",
   "metadata": {},
   "outputs": [],
   "source": [
    "let score = 12; // Example: player score after hitting moles\n",
    "\n",
    "// Corrected: add 5 bonus points if score >= 10\n",
    "if (score >= 10) {\n",
    "    score += 5; // ✅ bonus points\n",
    "    console.log(\"New High Score! Bonus awarded.\");\n",
    "} else {\n",
    "    console.log(\"Try again!\");\n",
    "}\n",
    "\n",
    "console.log(\"Final score: \" + score);"
   ]
  },
  {
   "cell_type": "markdown",
   "id": "15c6f965",
   "metadata": {},
   "source": [
    "## Challenge 4: Bonus Mole Condition "
   ]
  },
  {
   "cell_type": "code",
   "execution_count": null,
   "id": "14be09b4",
   "metadata": {},
   "outputs": [],
   "source": [
    "let goldenMole = true;   // Special mole appears\n",
    "let hit = true;          // Change to true if the mole is hit\n",
    "\n",
    "// Corrected condition: BOTH must be true using &&\n",
    "if (goldenMole && hit) {\n",
    "    console.log(\"Bonus!\");\n",
    "} else {\n",
    "    console.log(\"No bonus.\");\n",
    "}"
   ]
  }
 ],
 "metadata": {
  "language_info": {
   "name": "python"
  }
 },
 "nbformat": 4,
 "nbformat_minor": 5
}

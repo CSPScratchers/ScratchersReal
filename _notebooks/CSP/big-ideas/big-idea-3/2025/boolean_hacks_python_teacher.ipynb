{
 "cells": [
  {
   "cell_type": "markdown",
   "id": "3d81689a",
   "metadata": {},
   "source": [
    "# ✅ Boolean Hacks in Python (Teacher Version)\n",
    "\n",
    "This version has solutions filled in for reference."
   ]
  },
  {
   "cell_type": "markdown",
   "id": "45259521",
   "metadata": {},
   "source": [
    "## Challenge 1: Positive Number"
   ]
  },
  {
   "cell_type": "code",
   "execution_count": null,
   "id": "baf843af",
   "metadata": {},
   "outputs": [],
   "source": [
    "num = -3  # Try changing this number!\n",
    "\n",
    "# Corrected condition\n",
    "if num > 0:\n",
    "    print(num, \"is positive\")\n",
    "else:\n",
    "    print(num, \"is NOT positive\")"
   ]
  },
  {
   "cell_type": "markdown",
   "id": "567d2a2d",
   "metadata": {},
   "source": [
    "## Challenge 2: Is Even?"
   ]
  },
  {
   "cell_type": "code",
   "execution_count": null,
   "id": "e27a267d",
   "metadata": {},
   "outputs": [],
   "source": [
    "num = 7\n",
    "\n",
    "# Corrected condition\n",
    "if num % 2 == 0:\n",
    "    print(num, \"is even\")\n",
    "else:\n",
    "    print(num, \"is odd\")"
   ]
  },
  {
   "cell_type": "markdown",
   "id": "e532b79f",
   "metadata": {},
   "source": [
    "## Challenge 3: Teenager Check"
   ]
  },
  {
   "cell_type": "code",
   "execution_count": null,
   "id": "45df7d37",
   "metadata": {},
   "outputs": [],
   "source": [
    "age = 15\n",
    "\n",
    "# Corrected condition\n",
    "if age >= 13 and age <= 19:\n",
    "    print(\"Teenager\")\n",
    "else:\n",
    "    print(\"Not Teenager\")"
   ]
  },
  {
   "cell_type": "markdown",
   "id": "e17e78f6",
   "metadata": {},
   "source": [
    "## Challenge 4: Lamp Logic"
   ]
  },
  {
   "cell_type": "code",
   "execution_count": null,
   "id": "f67fd058",
   "metadata": {},
   "outputs": [],
   "source": [
    "a, b = True, False\n",
    "\n",
    "# Corrected condition\n",
    "if a or b:\n",
    "    print(\"Lamp is ON\")\n",
    "else:\n",
    "    print(\"Lamp is OFF\")"
   ]
  }
 ],
 "metadata": {},
 "nbformat": 4,
 "nbformat_minor": 5
}
